{
 "cells": [
  {
   "cell_type": "markdown",
   "id": "christian-daisy",
   "metadata": {},
   "source": [
    "## Manipulating Data in Dataframes"
   ]
  },
  {
   "cell_type": "code",
   "execution_count": 1,
   "id": "spatial-covering",
   "metadata": {},
   "outputs": [
    {
     "data": {
      "text/html": [
       "\n",
       "            <div>\n",
       "                <p><b>SparkSession - in-memory</b></p>\n",
       "                \n",
       "        <div>\n",
       "            <p><b>SparkContext</b></p>\n",
       "\n",
       "            <p><a href=\"http://DESKTOP-2NP7FHU.mshome.net:4042\">Spark UI</a></p>\n",
       "\n",
       "            <dl>\n",
       "              <dt>Version</dt>\n",
       "                <dd><code>v3.1.1</code></dd>\n",
       "              <dt>Master</dt>\n",
       "                <dd><code>local[*]</code></dd>\n",
       "              <dt>AppName</dt>\n",
       "                <dd><code>ManipulatingDf</code></dd>\n",
       "            </dl>\n",
       "        </div>\n",
       "        \n",
       "            </div>\n",
       "        "
      ],
      "text/plain": [
       "<pyspark.sql.session.SparkSession at 0x1a7b3c49d90>"
      ]
     },
     "execution_count": 1,
     "metadata": {},
     "output_type": "execute_result"
    }
   ],
   "source": [
    "#Importing pysark and creating a session\n",
    "import pyspark\n",
    "from pyspark.sql import SparkSession\n",
    "spark = SparkSession.builder.appName('ManipulatingDf').getOrCreate()\n",
    "spark"
   ]
  },
  {
   "cell_type": "markdown",
   "id": "armed-passing",
   "metadata": {},
   "source": [
    "## Taken this dataset from kaggle\n",
    "\n",
    "**Source:** https://www.kaggle.com/kapastor/democratvsrepublicantweets#ExtractedTweets.csv\n",
    "\n",
    "This dataset tweets extracted from all of the representives (latest 200 as of May 17th 2018)"
   ]
  },
  {
   "cell_type": "code",
   "execution_count": 2,
   "id": "twenty-guitar",
   "metadata": {},
   "outputs": [],
   "source": [
    "#Importing the data \n",
    "path ='datasets-intro/'\n",
    "tweets = spark.read.csv(path+'Rep_vs_Dem_tweets.csv', inferSchema=True, header=True)"
   ]
  },
  {
   "cell_type": "code",
   "execution_count": 3,
   "id": "asian-wonder",
   "metadata": {},
   "outputs": [
    {
     "data": {
      "text/html": [
       "<div>\n",
       "<style scoped>\n",
       "    .dataframe tbody tr th:only-of-type {\n",
       "        vertical-align: middle;\n",
       "    }\n",
       "\n",
       "    .dataframe tbody tr th {\n",
       "        vertical-align: top;\n",
       "    }\n",
       "\n",
       "    .dataframe thead th {\n",
       "        text-align: right;\n",
       "    }\n",
       "</style>\n",
       "<table border=\"1\" class=\"dataframe\">\n",
       "  <thead>\n",
       "    <tr style=\"text-align: right;\">\n",
       "      <th></th>\n",
       "      <th>Party</th>\n",
       "      <th>Handle</th>\n",
       "      <th>Tweet</th>\n",
       "    </tr>\n",
       "  </thead>\n",
       "  <tbody>\n",
       "    <tr>\n",
       "      <th>0</th>\n",
       "      <td>Democrat</td>\n",
       "      <td>RepDarrenSoto</td>\n",
       "      <td>Today, Senate Dems vote to #SaveTheInternet. P...</td>\n",
       "    </tr>\n",
       "    <tr>\n",
       "      <th>1</th>\n",
       "      <td>Democrat</td>\n",
       "      <td>RepDarrenSoto</td>\n",
       "      <td>RT @WinterHavenSun: Winter Haven resident / Al...</td>\n",
       "    </tr>\n",
       "    <tr>\n",
       "      <th>2</th>\n",
       "      <td>Democrat</td>\n",
       "      <td>RepDarrenSoto</td>\n",
       "      <td>RT @NBCLatino: .@RepDarrenSoto noted that Hurr...</td>\n",
       "    </tr>\n",
       "    <tr>\n",
       "      <th>3</th>\n",
       "      <td>Congress has allocated about $18…\"</td>\n",
       "      <td>None</td>\n",
       "      <td>None</td>\n",
       "    </tr>\n",
       "    <tr>\n",
       "      <th>4</th>\n",
       "      <td>Democrat</td>\n",
       "      <td>RepDarrenSoto</td>\n",
       "      <td>RT @NALCABPolicy: Meeting with @RepDarrenSoto ...</td>\n",
       "    </tr>\n",
       "  </tbody>\n",
       "</table>\n",
       "</div>"
      ],
      "text/plain": [
       "                                Party         Handle  \\\n",
       "0                            Democrat  RepDarrenSoto   \n",
       "1                            Democrat  RepDarrenSoto   \n",
       "2                            Democrat  RepDarrenSoto   \n",
       "3  Congress has allocated about $18…\"           None   \n",
       "4                            Democrat  RepDarrenSoto   \n",
       "\n",
       "                                               Tweet  \n",
       "0  Today, Senate Dems vote to #SaveTheInternet. P...  \n",
       "1  RT @WinterHavenSun: Winter Haven resident / Al...  \n",
       "2  RT @NBCLatino: .@RepDarrenSoto noted that Hurr...  \n",
       "3                                               None  \n",
       "4  RT @NALCABPolicy: Meeting with @RepDarrenSoto ...  "
      ]
     },
     "execution_count": 3,
     "metadata": {},
     "output_type": "execute_result"
    }
   ],
   "source": [
    "tweets.limit(5).toPandas()"
   ]
  },
  {
   "cell_type": "code",
   "execution_count": 4,
   "id": "consecutive-bumper",
   "metadata": {},
   "outputs": [
    {
     "name": "stdout",
     "output_type": "stream",
     "text": [
      "+--------------------------------------------------------------------------------------------------------------------------------------------+\n",
      "|Tweet                                                                                                                                       |\n",
      "+--------------------------------------------------------------------------------------------------------------------------------------------+\n",
      "|Today, Senate Dems vote to #SaveTheInternet. Proud to support similar #NetNeutrality legislation here in the House… https://t.co/n3tggDLU1L |\n",
      "|RT @WinterHavenSun: Winter Haven resident / Alta Vista teacher is one of several recognized by @RepDarrenSoto for National Teacher Apprecia…|\n",
      "|RT @NBCLatino: .@RepDarrenSoto noted that Hurricane Maria has left approximately $90 billion in damages.                                    |\n",
      "+--------------------------------------------------------------------------------------------------------------------------------------------+\n",
      "only showing top 3 rows\n",
      "\n"
     ]
    }
   ],
   "source": [
    "#To get the full tweet instead of truncated tweet, I will use select method\n",
    "tweets.select('Tweet').show(3,False)"
   ]
  },
  {
   "cell_type": "code",
   "execution_count": 5,
   "id": "sticky-cemetery",
   "metadata": {},
   "outputs": [
    {
     "name": "stdout",
     "output_type": "stream",
     "text": [
      "root\n",
      " |-- Party: string (nullable = true)\n",
      " |-- Handle: string (nullable = true)\n",
      " |-- Tweet: string (nullable = true)\n",
      "\n"
     ]
    }
   ],
   "source": [
    "tweets.printSchema()"
   ]
  },
  {
   "cell_type": "code",
   "execution_count": 6,
   "id": "satisfactory-sodium",
   "metadata": {},
   "outputs": [
    {
     "data": {
      "text/html": [
       "<div>\n",
       "<style scoped>\n",
       "    .dataframe tbody tr th:only-of-type {\n",
       "        vertical-align: middle;\n",
       "    }\n",
       "\n",
       "    .dataframe tbody tr th {\n",
       "        vertical-align: top;\n",
       "    }\n",
       "\n",
       "    .dataframe thead th {\n",
       "        text-align: right;\n",
       "    }\n",
       "</style>\n",
       "<table border=\"1\" class=\"dataframe\">\n",
       "  <thead>\n",
       "    <tr style=\"text-align: right;\">\n",
       "      <th></th>\n",
       "      <th>Party</th>\n",
       "      <th>Handle</th>\n",
       "      <th>Tweet</th>\n",
       "      <th>Latino_mentions</th>\n",
       "    </tr>\n",
       "  </thead>\n",
       "  <tbody>\n",
       "    <tr>\n",
       "      <th>0</th>\n",
       "      <td>Democrat</td>\n",
       "      <td>RepDarrenSoto</td>\n",
       "      <td>Today, Senate Dems vote to #SaveTheInternet. P...</td>\n",
       "      <td></td>\n",
       "    </tr>\n",
       "    <tr>\n",
       "      <th>1</th>\n",
       "      <td>Democrat</td>\n",
       "      <td>RepDarrenSoto</td>\n",
       "      <td>RT @WinterHavenSun: Winter Haven resident / Al...</td>\n",
       "      <td></td>\n",
       "    </tr>\n",
       "    <tr>\n",
       "      <th>2</th>\n",
       "      <td>Democrat</td>\n",
       "      <td>RepDarrenSoto</td>\n",
       "      <td>RT @NBCLatino: .@RepDarrenSoto noted that Hurr...</td>\n",
       "      <td></td>\n",
       "    </tr>\n",
       "    <tr>\n",
       "      <th>3</th>\n",
       "      <td>Congress has allocated about $18…\"</td>\n",
       "      <td>None</td>\n",
       "      <td>None</td>\n",
       "      <td>None</td>\n",
       "    </tr>\n",
       "    <tr>\n",
       "      <th>4</th>\n",
       "      <td>Democrat</td>\n",
       "      <td>RepDarrenSoto</td>\n",
       "      <td>RT @NALCABPolicy: Meeting with @RepDarrenSoto ...</td>\n",
       "      <td>@LatinoLeader</td>\n",
       "    </tr>\n",
       "    <tr>\n",
       "      <th>5</th>\n",
       "      <td>Democrat</td>\n",
       "      <td>RepDarrenSoto</td>\n",
       "      <td>RT @Vegalteno: Hurricane season starts on June...</td>\n",
       "      <td></td>\n",
       "    </tr>\n",
       "  </tbody>\n",
       "</table>\n",
       "</div>"
      ],
      "text/plain": [
       "                                Party         Handle  \\\n",
       "0                            Democrat  RepDarrenSoto   \n",
       "1                            Democrat  RepDarrenSoto   \n",
       "2                            Democrat  RepDarrenSoto   \n",
       "3  Congress has allocated about $18…\"           None   \n",
       "4                            Democrat  RepDarrenSoto   \n",
       "5                            Democrat  RepDarrenSoto   \n",
       "\n",
       "                                               Tweet Latino_mentions  \n",
       "0  Today, Senate Dems vote to #SaveTheInternet. P...                  \n",
       "1  RT @WinterHavenSun: Winter Haven resident / Al...                  \n",
       "2  RT @NBCLatino: .@RepDarrenSoto noted that Hurr...                  \n",
       "3                                               None            None  \n",
       "4  RT @NALCABPolicy: Meeting with @RepDarrenSoto ...   @LatinoLeader  \n",
       "5  RT @Vegalteno: Hurricane season starts on June...                  "
      ]
     },
     "execution_count": 6,
     "metadata": {},
     "output_type": "execute_result"
    }
   ],
   "source": [
    "#Identifying any tweet that mentions the handle @LatinoLeader using regexp_extract\n",
    "from pyspark.sql.functions import *\n",
    "#withcolumn creates a column, regexp () takes a substring and . takes all characters except new\n",
    "latino = tweets.withColumn('Latino_mentions', regexp_extract(tweets.Tweet, '(.)(@LatinoLeader)(.)',2)) \n",
    "latino.limit(6).toPandas()"
   ]
  },
  {
   "cell_type": "code",
   "execution_count": 7,
   "id": "secure-people",
   "metadata": {},
   "outputs": [
    {
     "name": "stdout",
     "output_type": "stream",
     "text": [
      "+--------------------+-----+\n",
      "|               Party|count|\n",
      "+--------------------+-----+\n",
      "|          Republican|44392|\n",
      "|            Democrat|42068|\n",
      "|            That’s…\"|   28|\n",
      "|https://t.co/oc6J...|   22|\n",
      "|                 Now|   17|\n",
      "|               Today|   13|\n",
      "+--------------------+-----+\n",
      "only showing top 6 rows\n",
      "\n"
     ]
    }
   ],
   "source": [
    "#Replacing any value other than 'Democrate' or 'Republican' with 'Other' in party column\n",
    "#First getting to know how many different parties are present with their count\n",
    "from pyspark.sql.functions import *\n",
    "counts = tweets.groupBy(\"Party\").count()\n",
    "counts.orderBy(desc(\"count\")).show(6)"
   ]
  },
  {
   "cell_type": "code",
   "execution_count": 8,
   "id": "occupational-guide",
   "metadata": {},
   "outputs": [
    {
     "name": "stdout",
     "output_type": "stream",
     "text": [
      "+----------+-----+\n",
      "|     Party|count|\n",
      "+----------+-----+\n",
      "|Republican|44392|\n",
      "|  Democrat|42068|\n",
      "|     Other| 6029|\n",
      "+----------+-----+\n",
      "\n"
     ]
    }
   ],
   "source": [
    "from pyspark.sql.functions import when\n",
    "\n",
    "clean = tweets.withColumn('Party', when(tweets.Party == 'Democrat','Democrat').when(tweets.Party == 'Republican','Republican').otherwise('Other'))\n",
    "counts = clean.groupBy(\"Party\").count()\n",
    "counts.orderBy(desc(\"count\")).show()"
   ]
  },
  {
   "cell_type": "code",
   "execution_count": 9,
   "id": "faced-canadian",
   "metadata": {},
   "outputs": [
    {
     "name": "stdout",
     "output_type": "stream",
     "text": [
      "Cleaned Tweet\n",
      "+--------------------------------------------------------------------------------------------------------------------+\n",
      "|cleaned                                                                                                             |\n",
      "+--------------------------------------------------------------------------------------------------------------------+\n",
      "|Today, Senate Dems vote to #SaveTheInternet. Proud to support similar #NetNeutrality legislation here in the House… |\n",
      "+--------------------------------------------------------------------------------------------------------------------+\n",
      "only showing top 1 row\n",
      "\n"
     ]
    }
   ],
   "source": [
    "#Deleting all the embedded links\n",
    "print(\"Cleaned Tweet\")\n",
    "#Using regex to clean tweets which removes embedded links\n",
    "tweets.withColumn('cleaned', regexp_replace('Tweet', '(http|ftp|https)://([\\w_-]+(?:(?:\\.[\\w_-]+)+))([\\w.,@?^=%&:/~+#-]*[\\w@?^=%&/~+#-])?', '')).select(\"cleaned\").show(1,False)"
   ]
  },
  {
   "cell_type": "code",
   "execution_count": 10,
   "id": "partial-migration",
   "metadata": {},
   "outputs": [
    {
     "name": "stdout",
     "output_type": "stream",
     "text": [
      "+--------------------------------------------------------------------------------------------------------------------------------------------+\n",
      "|Tweet                                                                                                                                       |\n",
      "+--------------------------------------------------------------------------------------------------------------------------------------------+\n",
      "|Today, Senate Dems vote to #SaveTheInternet. Proud to support similar #NetNeutrality legislation here in the House… https://t.co/n3tggDLU1L |\n",
      "|RT @WinterHavenSun: Winter Haven resident / Alta Vista teacher is one of several recognized by @RepDarrenSoto for National Teacher Apprecia…|\n",
      "|RT @NBCLatino: .@RepDarrenSoto noted that Hurricane Maria has left approximately $90 billion in damages.                                    |\n",
      "|null                                                                                                                                        |\n",
      "|RT @NALCABPolicy: Meeting with @RepDarrenSoto . Thanks for taking the time to meet with @LatinoLeader ED Marucci Guzman. #NALCABPolicy2018.…|\n",
      "+--------------------------------------------------------------------------------------------------------------------------------------------+\n",
      "only showing top 5 rows\n",
      "\n",
      "+--------------------------------------------------------------------------------------------------------------------------------------------+--------------------------------------------------------------------------------------------------------------------------------------------+\n",
      "|Tweet                                                                                                                                       |trim(Tweet)                                                                                                                                 |\n",
      "+--------------------------------------------------------------------------------------------------------------------------------------------+--------------------------------------------------------------------------------------------------------------------------------------------+\n",
      "|Today, Senate Dems vote to #SaveTheInternet. Proud to support similar #NetNeutrality legislation here in the House… https://t.co/n3tggDLU1L |Today, Senate Dems vote to #SaveTheInternet. Proud to support similar #NetNeutrality legislation here in the House… https://t.co/n3tggDLU1L |\n",
      "|RT @WinterHavenSun: Winter Haven resident / Alta Vista teacher is one of several recognized by @RepDarrenSoto for National Teacher Apprecia…|RT @WinterHavenSun: Winter Haven resident / Alta Vista teacher is one of several recognized by @RepDarrenSoto for National Teacher Apprecia…|\n",
      "|RT @NBCLatino: .@RepDarrenSoto noted that Hurricane Maria has left approximately $90 billion in damages.                                    |RT @NBCLatino: .@RepDarrenSoto noted that Hurricane Maria has left approximately $90 billion in damages.                                    |\n",
      "|null                                                                                                                                        |null                                                                                                                                        |\n",
      "|RT @NALCABPolicy: Meeting with @RepDarrenSoto . Thanks for taking the time to meet with @LatinoLeader ED Marucci Guzman. #NALCABPolicy2018.…|RT @NALCABPolicy: Meeting with @RepDarrenSoto . Thanks for taking the time to meet with @LatinoLeader ED Marucci Guzman. #NALCABPolicy2018.…|\n",
      "+--------------------------------------------------------------------------------------------------------------------------------------------+--------------------------------------------------------------------------------------------------------------------------------------------+\n",
      "only showing top 5 rows\n",
      "\n"
     ]
    }
   ],
   "source": [
    "#Removing any leading or trailing white space in tweet column\n",
    "from pyspark.sql.functions import *\n",
    "tweets.select(\"Tweet\").show(5, False)\n",
    "tweets.select('Tweet', trim(tweets.Tweet)).show(5,False)"
   ]
  },
  {
   "cell_type": "code",
   "execution_count": 11,
   "id": "verbal-water",
   "metadata": {},
   "outputs": [
    {
     "data": {
      "text/html": [
       "<div>\n",
       "<style scoped>\n",
       "    .dataframe tbody tr th:only-of-type {\n",
       "        vertical-align: middle;\n",
       "    }\n",
       "\n",
       "    .dataframe tbody tr th {\n",
       "        vertical-align: top;\n",
       "    }\n",
       "\n",
       "    .dataframe thead th {\n",
       "        text-align: right;\n",
       "    }\n",
       "</style>\n",
       "<table border=\"1\" class=\"dataframe\">\n",
       "  <thead>\n",
       "    <tr style=\"text-align: right;\">\n",
       "      <th></th>\n",
       "      <th>Dem_Rep</th>\n",
       "      <th>Handle</th>\n",
       "      <th>Tweet</th>\n",
       "    </tr>\n",
       "  </thead>\n",
       "  <tbody>\n",
       "    <tr>\n",
       "      <th>0</th>\n",
       "      <td>Democrat</td>\n",
       "      <td>RepDarrenSoto</td>\n",
       "      <td>Today, Senate Dems vote to #SaveTheInternet. P...</td>\n",
       "    </tr>\n",
       "    <tr>\n",
       "      <th>1</th>\n",
       "      <td>Democrat</td>\n",
       "      <td>RepDarrenSoto</td>\n",
       "      <td>RT @WinterHavenSun: Winter Haven resident / Al...</td>\n",
       "    </tr>\n",
       "    <tr>\n",
       "      <th>2</th>\n",
       "      <td>Democrat</td>\n",
       "      <td>RepDarrenSoto</td>\n",
       "      <td>RT @NBCLatino: .@RepDarrenSoto noted that Hurr...</td>\n",
       "    </tr>\n",
       "    <tr>\n",
       "      <th>3</th>\n",
       "      <td>Congress has allocated about $18…\"</td>\n",
       "      <td>None</td>\n",
       "      <td>None</td>\n",
       "    </tr>\n",
       "  </tbody>\n",
       "</table>\n",
       "</div>"
      ],
      "text/plain": [
       "                              Dem_Rep         Handle  \\\n",
       "0                            Democrat  RepDarrenSoto   \n",
       "1                            Democrat  RepDarrenSoto   \n",
       "2                            Democrat  RepDarrenSoto   \n",
       "3  Congress has allocated about $18…\"           None   \n",
       "\n",
       "                                               Tweet  \n",
       "0  Today, Senate Dems vote to #SaveTheInternet. P...  \n",
       "1  RT @WinterHavenSun: Winter Haven resident / Al...  \n",
       "2  RT @NBCLatino: .@RepDarrenSoto noted that Hurr...  \n",
       "3                                               None  "
      ]
     },
     "execution_count": 11,
     "metadata": {},
     "output_type": "execute_result"
    }
   ],
   "source": [
    "#Renaming the \"Party\" column to 'Dem_Rep'\n",
    "renamed = tweets.withColumnRenamed('Party','Dem_Rep')\n",
    "renamed.limit(4).toPandas()"
   ]
  },
  {
   "cell_type": "code",
   "execution_count": 12,
   "id": "least-transmission",
   "metadata": {},
   "outputs": [
    {
     "name": "stdout",
     "output_type": "stream",
     "text": [
      "+----------------------------------+-------------+----------------------------------+\n",
      "|Party                             |Handle       |Concatenated                      |\n",
      "+----------------------------------+-------------+----------------------------------+\n",
      "|Democrat                          |RepDarrenSoto|DemocratRepDarrenSoto             |\n",
      "|Democrat                          |RepDarrenSoto|DemocratRepDarrenSoto             |\n",
      "|Democrat                          |RepDarrenSoto|DemocratRepDarrenSoto             |\n",
      "|Congress has allocated about $18…\"|null         |Congress has allocated about $18…\"|\n",
      "|Democrat                          |RepDarrenSoto|DemocratRepDarrenSoto             |\n",
      "+----------------------------------+-------------+----------------------------------+\n",
      "only showing top 5 rows\n",
      "\n"
     ]
    }
   ],
   "source": [
    "#Concatenating the party and handle columns\n",
    "from pyspark.sql.functions import *\n",
    "tweets.select(tweets.Party,tweets.Handle, concat_ws('', tweets.Party,tweets.Handle).alias('Concatenated')).show(5,False)"
   ]
  },
  {
   "cell_type": "code",
   "execution_count": 13,
   "id": "developmental-radar",
   "metadata": {},
   "outputs": [
    {
     "name": "stdout",
     "output_type": "stream",
     "text": [
      "+-----------------------------------------------------------------------------------------+\n",
      "|a                                                                                        |\n",
      "+-----------------------------------------------------------------------------------------+\n",
      "| #SaveTheInternet, #NetNeutrality, legislation here in the House… https://t.co/n3tggDLU1L|\n",
      "| #NALCABPolicy2018,.…                                                                    |\n",
      "| #NetNeutrality, rules. Find out…                                                        |\n",
      "+-----------------------------------------------------------------------------------------+\n",
      "only showing top 3 rows\n",
      "\n",
      "+---------------------------------+\n",
      "|a                                |\n",
      "+---------------------------------+\n",
      "| #SaveTheInternet, #NetNeutrality|\n",
      "| #NALCABPolicy2018               |\n",
      "| #NetNeutrality                  |\n",
      "+---------------------------------+\n",
      "only showing top 3 rows\n",
      "\n",
      "+------------------------------------+\n",
      "|a                                   |\n",
      "+------------------------------------+\n",
      "|[ #SaveTheInternet,  #NetNeutrality]|\n",
      "|[ #NALCABPolicy2018]                |\n",
      "|[ #NetNeutrality]                   |\n",
      "+------------------------------------+\n",
      "only showing top 3 rows\n",
      "\n"
     ]
    },
    {
     "data": {
      "text/html": [
       "<div>\n",
       "<style scoped>\n",
       "    .dataframe tbody tr th:only-of-type {\n",
       "        vertical-align: middle;\n",
       "    }\n",
       "\n",
       "    .dataframe tbody tr th {\n",
       "        vertical-align: top;\n",
       "    }\n",
       "\n",
       "    .dataframe thead th {\n",
       "        text-align: right;\n",
       "    }\n",
       "</style>\n",
       "<table border=\"1\" class=\"dataframe\">\n",
       "  <thead>\n",
       "    <tr style=\"text-align: right;\">\n",
       "      <th></th>\n",
       "      <th>Party</th>\n",
       "      <th>Handle</th>\n",
       "      <th>Tweet</th>\n",
       "      <th>a</th>\n",
       "    </tr>\n",
       "  </thead>\n",
       "  <tbody>\n",
       "    <tr>\n",
       "      <th>0</th>\n",
       "      <td>Democrat</td>\n",
       "      <td>RepDarrenSoto</td>\n",
       "      <td>Today, Senate Dems vote to #SaveTheInternet. P...</td>\n",
       "      <td>[ #SaveTheInternet,  #NetNeutrality]</td>\n",
       "    </tr>\n",
       "    <tr>\n",
       "      <th>1</th>\n",
       "      <td>Democrat</td>\n",
       "      <td>RepDarrenSoto</td>\n",
       "      <td>RT @NALCABPolicy: Meeting with @RepDarrenSoto ...</td>\n",
       "      <td>[ #NALCABPolicy2018]</td>\n",
       "    </tr>\n",
       "    <tr>\n",
       "      <th>2</th>\n",
       "      <td>Democrat</td>\n",
       "      <td>RepDarrenSoto</td>\n",
       "      <td>RT @Tharryry: I am delighted that @RepDarrenSo...</td>\n",
       "      <td>[ #NetNeutrality]</td>\n",
       "    </tr>\n",
       "  </tbody>\n",
       "</table>\n",
       "</div>"
      ],
      "text/plain": [
       "      Party         Handle                                              Tweet  \\\n",
       "0  Democrat  RepDarrenSoto  Today, Senate Dems vote to #SaveTheInternet. P...   \n",
       "1  Democrat  RepDarrenSoto  RT @NALCABPolicy: Meeting with @RepDarrenSoto ...   \n",
       "2  Democrat  RepDarrenSoto  RT @Tharryry: I am delighted that @RepDarrenSo...   \n",
       "\n",
       "                                      a  \n",
       "0  [ #SaveTheInternet,  #NetNeutrality]  \n",
       "1                  [ #NALCABPolicy2018]  \n",
       "2                     [ #NetNeutrality]  "
      ]
     },
     "execution_count": 13,
     "metadata": {},
     "output_type": "execute_result"
    }
   ],
   "source": [
    "#Extracting hashtags from all the tweets\n",
    "from pyspark.sql.functions import *\n",
    "# Parenthesis are used to mark a subexpression within a larger expression\n",
    "# The . matches any character other than a new line\n",
    "# | means is like or\n",
    "# \\w+ means followed by any word\n",
    "pattern = '(.|'')(#)(\\w+)'\n",
    "# * is used to match the preceding character zero or more times.\n",
    "# ? will match the preceding character zero or one times, but no more.\n",
    "# $ is used to match the ending position in a string. \n",
    "split_pattern = r'.*?({pattern})'.format(pattern=pattern)\n",
    "end_pattern = r'(.*{pattern}).*?$'.format(pattern=pattern)\n",
    "\n",
    "# $1 here means to capture the first part of the regex result\n",
    "# The , will separate each find with a comma in the a array we create\n",
    "df2 = tweets.withColumn('a', regexp_replace('Tweet', split_pattern, '$1,')).where(col('Tweet').like('%#%'))\n",
    "df2.select('a').show(3,False)\n",
    "# Remove all the other results that came up\n",
    "df3 = df2.withColumn('a', regexp_replace('a', end_pattern, '$1'))\n",
    "df3.select('a').show(3,False)\n",
    "# Finally create an array from the result by splitting on the comma\n",
    "df4 = df3.withColumn('a', split('a', r','))\n",
    "df4.select('a').show(3,False)\n",
    "df4.limit(3).toPandas()"
   ]
  },
  {
   "cell_type": "code",
   "execution_count": 14,
   "id": "atmospheric-flashing",
   "metadata": {},
   "outputs": [
    {
     "name": "stdout",
     "output_type": "stream",
     "text": [
      "+----------+---------+----------+--------+---------+---------+\n",
      "|first_name|last_name|       dob|  visit1|   visit2|   visit3|\n",
      "+----------+---------+----------+--------+---------+---------+\n",
      "|  Santhosh|   Sahini|  1987-4-8|2016-1-7| 2017-2-3| 2018-3-2|\n",
      "|   Sameera|   Appana|  1986-4-8|2015-1-7| 2017-1-3| 2018-1-2|\n",
      "|     Ginny|   Ginger| 1986-7-10|2014-8-7| 2015-2-3| 2016-3-2|\n",
      "|     Vijay|    Tracy|  1988-5-2|2016-1-7| 2018-2-3| 2018-3-2|\n",
      "|       Jon|     Ravi| 1987-5-11|2016-5-7| 2017-1-3| 2018-9-2|\n",
      "|     Sarah|    Jones|  1956-7-6|2016-4-7| 2017-8-3|2018-10-2|\n",
      "|      John|  Johnson|2017-10-12|2018-1-2|2018-10-3| 2018-3-2|\n",
      "+----------+---------+----------+--------+---------+---------+\n",
      "\n",
      "root\n",
      " |-- first_name: string (nullable = true)\n",
      " |-- last_name: string (nullable = true)\n",
      " |-- dob: string (nullable = true)\n",
      " |-- visit1: string (nullable = true)\n",
      " |-- visit2: string (nullable = true)\n",
      " |-- visit3: string (nullable = true)\n",
      "\n"
     ]
    }
   ],
   "source": [
    "#Creating a dataframe\n",
    "from pyspark.sql.types import *\n",
    "\n",
    "sample = [('Santhosh','Sahini','1987-4-8','2016-1-7','2017-2-3','2018-3-2') \\\n",
    "            ,('Sameera','Appana','1986-4-8','2015-1-7','2017-1-3','2018-1-2') \\\n",
    "            ,('Ginny','Ginger','1986-7-10','2014-8-7','2015-2-3','2016-3-2') \\\n",
    "            ,('Vijay','Tracy','1988-5-2','2016-1-7','2018-2-3','2018-3-2') \\\n",
    "            ,('Jon','Ravi','1987-5-11','2016-5-7','2017-1-3','2018-9-2') \\\n",
    "            ,('Sarah','Jones','1956-7-6','2016-4-7','2017-8-3','2018-10-2') \\\n",
    "            ,('John','Johnson','2017-10-12','2018-1-2','2018-10-3','2018-3-2') ]\n",
    "\n",
    "df = spark.createDataFrame(sample,['first_name','last_name','dob','visit1','visit2','visit3'])\n",
    "df.show()\n",
    "df.printSchema()"
   ]
  },
  {
   "cell_type": "markdown",
   "id": "exposed-hundred",
   "metadata": {},
   "source": [
    "Dates are still stored as string, I will convert them again"
   ]
  },
  {
   "cell_type": "code",
   "execution_count": 15,
   "id": "expected-marker",
   "metadata": {},
   "outputs": [
    {
     "name": "stdout",
     "output_type": "stream",
     "text": [
      "+----------+---------+----------+----------+----------+----------+\n",
      "|first_name|last_name|       dob|    visit1|    visit2|    visit3|\n",
      "+----------+---------+----------+----------+----------+----------+\n",
      "|  Santhosh|   Sahini|1987-04-08|2016-01-07|2017-02-03|2018-03-02|\n",
      "|   Sameera|   Appana|1986-04-08|2015-01-07|2017-01-03|2018-01-02|\n",
      "|     Ginny|   Ginger|1986-07-10|2014-08-07|2015-02-03|2016-03-02|\n",
      "|     Vijay|    Tracy|1988-05-02|2016-01-07|2018-02-03|2018-03-02|\n",
      "|       Jon|     Ravi|1987-05-11|2016-05-07|2017-01-03|2018-09-02|\n",
      "|     Sarah|    Jones|1956-07-06|2016-04-07|2017-08-03|2018-10-02|\n",
      "|      John|  Johnson|2017-10-12|2018-01-02|2018-10-03|2018-03-02|\n",
      "+----------+---------+----------+----------+----------+----------+\n",
      "\n",
      "root\n",
      " |-- first_name: string (nullable = true)\n",
      " |-- last_name: string (nullable = true)\n",
      " |-- dob: date (nullable = true)\n",
      " |-- visit1: date (nullable = true)\n",
      " |-- visit2: date (nullable = true)\n",
      " |-- visit3: date (nullable = true)\n",
      "\n"
     ]
    }
   ],
   "source": [
    "# Coverting the date columns into date types\n",
    "df = df.withColumn(\"dob\", df[\"dob\"].cast(DateType())) \\\n",
    "        .withColumn(\"visit1\", df[\"visit1\"].cast(DateType())) \\\n",
    "        .withColumn(\"visit2\", df[\"visit2\"].cast(DateType())) \\\n",
    "        .withColumn(\"visit3\", df[\"visit3\"].cast(DateType()))\n",
    "\n",
    "# Check to make sure it worked\n",
    "df.show()\n",
    "df.printSchema()"
   ]
  },
  {
   "cell_type": "code",
   "execution_count": 19,
   "id": "iraqi-article",
   "metadata": {},
   "outputs": [
    {
     "name": "stdout",
     "output_type": "stream",
     "text": [
      "+----+\n",
      "|diff|\n",
      "+----+\n",
      "| 393|\n",
      "| 727|\n",
      "| 180|\n",
      "| 758|\n",
      "| 241|\n",
      "+----+\n",
      "only showing top 5 rows\n",
      "\n"
     ]
    }
   ],
   "source": [
    "#Calculating a variable showing the length of time between patient visits\n",
    "from pyspark.sql.functions import *\n",
    "diff1 = df.select(datediff(df.visit2, df.visit1).alias('diff'))\n",
    "diff2 = df.select(datediff(df.visit3, df.visit2).alias('diff'))\n",
    "\n",
    "#Appending the two dataframes together\n",
    "diff_combo = diff1.union(diff2)\n",
    "diff_combo.show(5)"
   ]
  },
  {
   "cell_type": "code",
   "execution_count": 21,
   "id": "normal-palestine",
   "metadata": {},
   "outputs": [
    {
     "name": "stdout",
     "output_type": "stream",
     "text": [
      "+----+\n",
      "| age|\n",
      "+----+\n",
      "|28.8|\n",
      "|28.8|\n",
      "|28.1|\n",
      "|27.7|\n",
      "|29.0|\n",
      "|59.8|\n",
      "| 0.2|\n",
      "+----+\n",
      "\n"
     ]
    }
   ],
   "source": [
    "#Calculating the age of each patient\n",
    "age = df.select(format_number(datediff(df.visit1, df.dob)/365,1).alias(\"age\"))\n",
    "age.show()"
   ]
  },
  {
   "cell_type": "code",
   "execution_count": null,
   "id": "falling-reserve",
   "metadata": {},
   "outputs": [],
   "source": []
  }
 ],
 "metadata": {
  "kernelspec": {
   "display_name": "Python 3",
   "language": "python",
   "name": "python3"
  },
  "language_info": {
   "codemirror_mode": {
    "name": "ipython",
    "version": 3
   },
   "file_extension": ".py",
   "mimetype": "text/x-python",
   "name": "python",
   "nbconvert_exporter": "python",
   "pygments_lexer": "ipython3",
   "version": "3.8.5"
  }
 },
 "nbformat": 4,
 "nbformat_minor": 5
}
